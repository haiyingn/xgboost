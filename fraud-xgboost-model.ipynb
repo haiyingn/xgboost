{
 "cells": [
  {
   "cell_type": "code",
   "execution_count": null,
   "metadata": {
    "_cell_guid": "b1076dfc-b9ad-4769-8c92-a6c4dae69d19",
    "_uuid": "8f2839f25d086af736a60e9eeb907d3b93b6e0e5",
    "execution": {
     "iopub.execute_input": "2025-06-06T08:38:08.352228Z",
     "iopub.status.busy": "2025-06-06T08:38:08.351847Z",
     "iopub.status.idle": "2025-06-06T08:38:23.571501Z",
     "shell.execute_reply": "2025-06-06T08:38:23.570357Z",
     "shell.execute_reply.started": "2025-06-06T08:38:08.352193Z"
    },
    "trusted": true
   },
   "outputs": [],
   "source": [
    "# 1. Import libraries\n",
    "import pandas as pd\n",
    "import matplotlib.pyplot as plt\n",
    "import seaborn as sns\n",
    "import shap\n",
    "import warnings\n",
    "\n",
    "from sklearn.model_selection import train_test_split\n",
    "from sklearn.metrics import classification_report, confusion_matrix, roc_auc_score\n",
    "from xgboost import XGBClassifier\n"
   ]
  },
  {
   "cell_type": "code",
   "execution_count": null,
   "metadata": {
    "execution": {
     "iopub.execute_input": "2025-06-06T08:57:28.257823Z",
     "iopub.status.busy": "2025-06-06T08:57:28.257504Z",
     "iopub.status.idle": "2025-06-06T08:58:00.312135Z",
     "shell.execute_reply": "2025-06-06T08:58:00.310321Z",
     "shell.execute_reply.started": "2025-06-06T08:57:28.257802Z"
    },
    "trusted": true
   },
   "outputs": [],
   "source": [
    "# 2. Load dataset and lowercase columns\n",
    "df = pd.read_csv(\"creditcard.csv\")\n",
    "df.columns = df.columns.str.lower()\n",
    "df.head()"
   ]
  },
  {
   "cell_type": "code",
   "execution_count": null,
   "metadata": {
    "trusted": true
   },
   "outputs": [],
   "source": [
    "# 3. Visualize class distribution\n",
    "sns.countplot(x='class', data=df)\n",
    "plt.title(\"Fraud vs Non-Fraud\")\n",
    "plt.xlabel(\"Class\")\n",
    "plt.ylabel(\"Count\")\n",
    "plt.show()"
   ]
  },
  {
   "cell_type": "code",
   "execution_count": null,
   "metadata": {
    "trusted": true
   },
   "outputs": [],
   "source": [
    "# 4. Preprocess - bin 'amount' and 'time', drop originals\n",
    "df['amount_bin'] = pd.qcut(df['amount'], q=5, labels=False)\n",
    "df['time_bin'] = pd.cut(df['time'], bins=6, labels=False)\n",
    "df.drop(['amount', 'time'], axis=1, inplace=True)\n",
    "df.head()"
   ]
  },
  {
   "cell_type": "code",
   "execution_count": null,
   "metadata": {
    "trusted": true
   },
   "outputs": [],
   "source": [
    "# 5. Split data into train and validation sets \n",
    "X = df.drop('class', axis=1)\n",
    "y = df['class']\n",
    "\n",
    "X_train, X_valid, y_train, y_valid = train_test_split(\n",
    "    X, y, test_size=0.2, stratify=y, random_state=42\n",
    ")"
   ]
  },
  {
   "cell_type": "code",
   "execution_count": null,
   "metadata": {
    "trusted": true
   },
   "outputs": [],
   "source": [
    "# 6. Train Model\n",
    "model = XGBClassifier(\n",
    "    use_label_encoder=False,\n",
    "    eval_metric='logloss',\n",
    "    random_state=42,\n",
    "    n_estimators=100\n",
    ")\n",
    "model.fit(X_train, y_train, verbose=False)"
   ]
  },
  {
   "cell_type": "code",
   "execution_count": null,
   "metadata": {
    "trusted": true
   },
   "outputs": [],
   "source": [
    "# 7. Evaluation \n",
    "y_pred = model.predict(X_valid)\n",
    "y_prob = model.predict_proba(X_valid)[:, 1]\n",
    "\n",
    "print(\"Confusion Matrix:\")\n",
    "print(confusion_matrix(y_valid, y_pred))\n",
    "\n",
    "print(\"\\nClassification Report:\")\n",
    "print(classification_report(y_valid, y_pred))\n",
    "\n",
    "roc_auc = roc_auc_score(y_valid, y_prob)\n",
    "print(f\"ROC-AUC Score on validation: {roc_auc:.4f}\")"
   ]
  },
  {
   "cell_type": "code",
   "execution_count": null,
   "metadata": {
    "trusted": true
   },
   "outputs": [],
   "source": [
    "# 8.  SHAP Feature Importance\n",
    "\n",
    "explainer = shap.TreeExplainer(model)\n",
    "shap_values = explainer.shap_values(X_valid)\n",
    "\n",
    "plt.figure(figsize=(10, 6))\n",
    "shap.summary_plot(shap_values, X_valid, plot_type=\"bar\")"
   ]
  }
 ],
 "metadata": {
  "kaggle": {
   "accelerator": "none",
   "dataSources": [],
   "dockerImageVersionId": 31040,
   "isGpuEnabled": false,
   "isInternetEnabled": false,
   "language": "python",
   "sourceType": "notebook"
  },
  "kernelspec": {
   "display_name": "Python 3",
   "language": "python",
   "name": "python3"
  },
  "language_info": {
   "codemirror_mode": {
    "name": "ipython",
    "version": 3
   },
   "file_extension": ".py",
   "mimetype": "text/x-python",
   "name": "python",
   "nbconvert_exporter": "python",
   "pygments_lexer": "ipython3",
   "version": "3.8.10"
  }
 },
 "nbformat": 4,
 "nbformat_minor": 4
}
